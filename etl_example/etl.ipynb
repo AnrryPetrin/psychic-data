{
 "cells": [
  {
   "cell_type": "code",
   "execution_count": 15,
   "metadata": {},
   "outputs": [
    {
     "name": "stdout",
     "output_type": "stream",
     "text": [
      "Dados da filial 1:\n",
      "   ID do Produto                   Nome do Produto  Quantidade Vendida  \\\n",
      "0            101                Laptop Dell XPS 13                  20   \n",
      "1            102     Smartphone Samsung Galaxy S20                  30   \n",
      "2            103          Monitor LG UltraWide 34\"                  15   \n",
      "3            104  Teclado Mecânico Corsair K95 RGB                  25   \n",
      "4            105        Mouse Logitech MX Master 3                  10   \n",
      "\n",
      "   Preço Unitário  \n",
      "0          1500.0  \n",
      "1          1000.0  \n",
      "2           600.0  \n",
      "3           200.0  \n",
      "4            80.0  \n",
      "Dados da filial 2:\n",
      "   ID do Produto                    Nome do Produto  Quantidade Vendida  \\\n",
      "0            201         Impressora HP LaserJet Pro                  12   \n",
      "1            202                    SSD Samsung 1TB                  18   \n",
      "2            203              Tablet Apple iPad Pro                   8   \n",
      "3            204  Smartwatch Samsung Galaxy Watch 4                  14   \n",
      "4            205            Headset HyperX Cloud II                  20   \n",
      "\n",
      "   Preço Unitário  \n",
      "0           250.0  \n",
      "1           180.0  \n",
      "2           900.0  \n",
      "3           300.0  \n",
      "4           120.0  \n"
     ]
    }
   ],
   "source": [
    "import pandas as pd\n",
    "\n",
    "# Extração dos dados da filial 1 (CSV)\n",
    "vendas_filial1 = pd.read_csv(\"vendas_filial1.csv\")\n",
    "\n",
    "# Extração dos dados da filial 2 (Excel)\n",
    "vendas_filial2 = pd.read_excel(\"vendas_filial2.xlsx\")\n",
    "\n",
    "\n",
    "# Transformações\n",
    "# Podemos fazer transformações adicionais aqui, se necessário\n",
    "\n",
    "# Visualização dos dados\n",
    "print(\"Dados da filial 1:\")\n",
    "print(vendas_filial1.head())\n",
    "print(\"Dados da filial 2:\")\n",
    "print(vendas_filial2.head())"
   ]
  },
  {
   "cell_type": "code",
   "execution_count": 16,
   "metadata": {},
   "outputs": [
    {
     "name": "stdout",
     "output_type": "stream",
     "text": [
      "Dados da filial 1 com valor total:\n",
      "   ID do Produto                   Nome do Produto  Quantidade Vendida  \\\n",
      "0            101                Laptop Dell XPS 13                  20   \n",
      "1            102     Smartphone Samsung Galaxy S20                  30   \n",
      "2            103          Monitor LG UltraWide 34\"                  15   \n",
      "3            104  Teclado Mecânico Corsair K95 RGB                  25   \n",
      "4            105        Mouse Logitech MX Master 3                  10   \n",
      "\n",
      "   Preço Unitário  Valor Total  \n",
      "0          1500.0      30000.0  \n",
      "1          1000.0      30000.0  \n",
      "2           600.0       9000.0  \n",
      "3           200.0       5000.0  \n",
      "4            80.0        800.0  \n",
      "Dados da filial 2 com valor total:\n",
      "   ID do Produto                    Nome do Produto  Quantidade Vendida  \\\n",
      "0            201         Impressora HP LaserJet Pro                  12   \n",
      "1            202                    SSD Samsung 1TB                  18   \n",
      "2            203              Tablet Apple iPad Pro                   8   \n",
      "3            204  Smartwatch Samsung Galaxy Watch 4                  14   \n",
      "4            205            Headset HyperX Cloud II                  20   \n",
      "\n",
      "   Preço Unitário  Valor Total  \n",
      "0           250.0       3000.0  \n",
      "1           180.0       3240.0  \n",
      "2           900.0       7200.0  \n",
      "3           300.0       4200.0  \n",
      "4           120.0       2400.0  \n"
     ]
    }
   ],
   "source": [
    "# Transformação dos dados: Calcular o valor total de vendas para cada filial\n",
    "vendas_filial1[\"Valor Total\"] = (\n",
    "    vendas_filial1[\"Quantidade Vendida\"] * vendas_filial1[\"Preço Unitário\"]\n",
    ")\n",
    "vendas_filial2[\"Valor Total\"] = (\n",
    "    vendas_filial2[\"Quantidade Vendida\"] * vendas_filial2[\"Preço Unitário\"]\n",
    ")\n",
    "\n",
    "# Visualizar os dados transformados\n",
    "print(\"Dados da filial 1 com valor total:\")\n",
    "print(vendas_filial1.head())\n",
    "print(\"Dados da filial 2 com valor total:\")\n",
    "print(vendas_filial2.head())"
   ]
  },
  {
   "cell_type": "code",
   "execution_count": 17,
   "metadata": {},
   "outputs": [
    {
     "name": "stdout",
     "output_type": "stream",
     "text": [
      "Dados da filial 1 carregados do arquivo CSV:\n",
      "   ID do Produto                   Nome do Produto  Quantidade Vendida  \\\n",
      "0            101                Laptop Dell XPS 13                  20   \n",
      "1            102     Smartphone Samsung Galaxy S20                  30   \n",
      "2            103          Monitor LG UltraWide 34\"                  15   \n",
      "3            104  Teclado Mecânico Corsair K95 RGB                  25   \n",
      "4            105        Mouse Logitech MX Master 3                  10   \n",
      "\n",
      "   Preço Unitário  Valor Total  \n",
      "0          1500.0      30000.0  \n",
      "1          1000.0      30000.0  \n",
      "2           600.0       9000.0  \n",
      "3           200.0       5000.0  \n",
      "4            80.0        800.0  \n",
      "Dados da filial 2 carregados do arquivo CSV:\n",
      "   ID do Produto                    Nome do Produto  Quantidade Vendida  \\\n",
      "0            201         Impressora HP LaserJet Pro                  12   \n",
      "1            202                    SSD Samsung 1TB                  18   \n",
      "2            203              Tablet Apple iPad Pro                   8   \n",
      "3            204  Smartwatch Samsung Galaxy Watch 4                  14   \n",
      "4            205            Headset HyperX Cloud II                  20   \n",
      "\n",
      "   Preço Unitário  Valor Total  \n",
      "0           250.0       3000.0  \n",
      "1           180.0       3240.0  \n",
      "2           900.0       7200.0  \n",
      "3           300.0       4200.0  \n",
      "4           120.0       2400.0  \n"
     ]
    }
   ],
   "source": [
    "# Carregamento dos dados transformados para um arquivo CSV\n",
    "vendas_filial1.to_csv(\"vendas_filial1_transformadas.csv\", index=False)\n",
    "vendas_filial2.to_csv(\"vendas_filial2_transformadas.csv\", index=False)\n",
    "\n",
    "# Apresentar os dados carregados dos arquivos CSV\n",
    "dados_filial1 = pd.read_csv(\"vendas_filial1_transformadas.csv\")\n",
    "dados_filial2 = pd.read_csv(\"vendas_filial2_transformadas.csv\")\n",
    "\n",
    "print(\"Dados da filial 1 carregados do arquivo CSV:\")\n",
    "print(dados_filial1.head())\n",
    "print(\"Dados da filial 2 carregados do arquivo CSV:\")\n",
    "print(dados_filial2.head())"
   ]
  },
  {
   "cell_type": "code",
   "execution_count": 18,
   "metadata": {},
   "outputs": [
    {
     "name": "stdout",
     "output_type": "stream",
     "text": [
      "Dados da filial 1 carregados do banco de dados SQLite:\n",
      "   ID do Produto                   Nome do Produto  Quantidade Vendida  \\\n",
      "0            101                Laptop Dell XPS 13                  20   \n",
      "1            102     Smartphone Samsung Galaxy S20                  30   \n",
      "2            103          Monitor LG UltraWide 34\"                  15   \n",
      "3            104  Teclado Mecânico Corsair K95 RGB                  25   \n",
      "4            105        Mouse Logitech MX Master 3                  10   \n",
      "\n",
      "   Preço Unitário  Valor Total  \n",
      "0          1500.0      30000.0  \n",
      "1          1000.0      30000.0  \n",
      "2           600.0       9000.0  \n",
      "3           200.0       5000.0  \n",
      "4            80.0        800.0  \n",
      "Dados da filial 2 carregados do banco de dados SQLite:\n",
      "   ID do Produto                    Nome do Produto  Quantidade Vendida  \\\n",
      "0            201         Impressora HP LaserJet Pro                  12   \n",
      "1            202                    SSD Samsung 1TB                  18   \n",
      "2            203              Tablet Apple iPad Pro                   8   \n",
      "3            204  Smartwatch Samsung Galaxy Watch 4                  14   \n",
      "4            205            Headset HyperX Cloud II                  20   \n",
      "\n",
      "   Preço Unitário  Valor Total  \n",
      "0           250.0       3000.0  \n",
      "1           180.0       3240.0  \n",
      "2           900.0       7200.0  \n",
      "3           300.0       4200.0  \n",
      "4           120.0       2400.0  \n"
     ]
    }
   ],
   "source": [
    "import sqlite3\n",
    "\n",
    "# Conexão com o banco de dados SQLite\n",
    "conn = sqlite3.connect(\"dados_transformados.db\")\n",
    "\n",
    "# Carregar os dados transformados para o banco de dados SQLite\n",
    "dados_filial1.to_sql(\n",
    "    \"vendas_filial1_transformadas\", conn, if_exists=\"replace\", index=False\n",
    ")\n",
    "dados_filial2.to_sql(\n",
    "    \"vendas_filial2_transformadas\", conn, if_exists=\"replace\", index=False\n",
    ")\n",
    "\n",
    "# Consulta SQL para obter os dados transformados das filiais\n",
    "consulta_filial1 = pd.read_sql_query(\"SELECT * FROM vendas_filial1_transformadas\", conn)\n",
    "consulta_filial2 = pd.read_sql_query(\"SELECT * FROM vendas_filial2_transformadas\", conn)\n",
    "\n",
    "print(\"Dados da filial 1 carregados do banco de dados SQLite:\")\n",
    "print(consulta_filial1.head())\n",
    "print(\"Dados da filial 2 carregados do banco de dados SQLite:\")\n",
    "print(consulta_filial2.head())\n",
    "\n",
    "# Fechar a conexão com o banco de dados SQLite\n",
    "conn.close()"
   ]
  },
  {
   "cell_type": "code",
   "execution_count": 19,
   "metadata": {},
   "outputs": [
    {
     "name": "stdout",
     "output_type": "stream",
     "text": [
      "(101, 'Laptop Dell XPS 13', 20, 1500.0, 30000.0)\n",
      "(102, 'Smartphone Samsung Galaxy S20', 30, 1000.0, 30000.0)\n",
      "(103, 'Monitor LG UltraWide 34\"', 15, 600.0, 9000.0)\n",
      "(104, 'Teclado Mecânico Corsair K95 RGB', 25, 200.0, 5000.0)\n",
      "(105, 'Mouse Logitech MX Master 3', 10, 80.0, 800.0)\n",
      "(201, 'Impressora HP LaserJet Pro', 12, 250.0, 3000.0)\n",
      "(202, 'SSD Samsung 1TB', 18, 180.0, 3240.0)\n",
      "(203, 'Tablet Apple iPad Pro', 8, 900.0, 7200.0)\n",
      "(204, 'Smartwatch Samsung Galaxy Watch 4', 14, 300.0, 4200.0)\n",
      "(205, 'Headset HyperX Cloud II', 20, 120.0, 2400.0)\n"
     ]
    }
   ],
   "source": [
    "import sqlite3\n",
    "\n",
    "# Conexão com o banco de dados SQLite\n",
    "conn = sqlite3.connect(\"dados_transformados.db\")\n",
    "\n",
    "# Criar um cursor para executar consultar SQL\n",
    "cursor = conn.cursor()\n",
    "\n",
    "# Executar uma consulta SQL para obter os dados da tabela vendas_filial1_transformadas\n",
    "cursor.execute(\"SELECT * FROM vendas_filial1_transformadas\")\n",
    "\n",
    "# Obter os resultados da consulta\n",
    "dados_filial1 = cursor.fetchall()\n",
    "\n",
    "# Exibir os resultados da filial 1\n",
    "for linha in dados_filial1:\n",
    "    print(linha)\n",
    "\n",
    "# Executar uma consultas SQL para obter os dados da tabela vendas_filial2_transformadas\n",
    "cursor.execute(\"SELECT * FROM vendas_filial2_transformadas\")\n",
    "\n",
    "# Obter os resultados da consulta\n",
    "dados_filial2 = cursor.fetchall()\n",
    "\n",
    "# Exibir os resultados da filial 2\n",
    "for linha in dados_filial2:\n",
    "    print(linha)\n",
    "\n",
    "# Fechar o cursor e a conexão com o banco de dados SQLite\n",
    "cursor.close()\n",
    "conn.close()"
   ]
  }
 ],
 "metadata": {
  "kernelspec": {
   "display_name": "myenv",
   "language": "python",
   "name": "python3"
  },
  "language_info": {
   "codemirror_mode": {
    "name": "ipython",
    "version": 3
   },
   "file_extension": ".py",
   "mimetype": "text/x-python",
   "name": "python",
   "nbconvert_exporter": "python",
   "pygments_lexer": "ipython3",
   "version": "3.10.13"
  }
 },
 "nbformat": 4,
 "nbformat_minor": 2
}
